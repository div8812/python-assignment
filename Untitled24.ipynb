{
 "cells": [
  {
   "cell_type": "markdown",
   "id": "599c13d4-0dc4-4e64-bda5-3ae8163629ba",
   "metadata": {},
   "source": [
    "Q1). Explain with an example each when to use a for loop and a while loop.\n",
    "Ans-Loop are an essential construct an all progamming language.In a loop structure ,the program first checks for a condition,if this condition is true,some peice of code is run. This code will keep on running unless the condition becomes invalid .\n",
    "                                          Types of loop\n",
    " 1)For loop - A loop is a type of loop that runs for a present number times.It also has the ability to ilterate over the items of any sequence, such as a list or a string     \n",
    "example:\n",
    "    "
   ]
  },
  {
   "cell_type": "code",
   "execution_count": 3,
   "id": "53096b92-6806-4dda-8c85-dd0504272928",
   "metadata": {},
   "outputs": [
    {
     "name": "stdout",
     "output_type": "stream",
     "text": [
      "1\n",
      "2\n",
      "3\n",
      "4\n",
      "5\n",
      "6\n"
     ]
    }
   ],
   "source": [
    "    \n",
    "    l=[1,2,3,4,5,6]\n",
    "    for i in l:\n",
    "        print(i)\n",
    " "
   ]
  },
  {
   "cell_type": "markdown",
   "id": "da6753e8-2e6c-4a98-90ea-127c32deabad",
   "metadata": {},
   "source": [
    "2.While loop -with the while loop we can execute a set of statments as long as a condition is true \n",
    "ex:"
   ]
  },
  {
   "cell_type": "code",
   "execution_count": 1,
   "id": "1d5d8cb1-2fc5-47a1-9de0-6f66d465c19c",
   "metadata": {},
   "outputs": [
    {
     "name": "stdout",
     "output_type": "stream",
     "text": [
      "5\n",
      "6\n",
      "7\n",
      "8\n",
      "9\n",
      "10\n"
     ]
    }
   ],
   "source": [
    "a=5\n",
    "while a <=10:\n",
    "    print(a)\n",
    "    a=a+1"
   ]
  },
  {
   "cell_type": "markdown",
   "id": "7a993a5c-6cc4-494e-9669-7abca229ce2b",
   "metadata": {},
   "source": [
    "Q2).Write a python program to print the sum and product of the first 10 natural numbers using for\n",
    "and while loop.\n",
    "                                  while loop (sum)"
   ]
  },
  {
   "cell_type": "code",
   "execution_count": 8,
   "id": "fdc21781-6d64-43c7-9e9d-b54dfa8a55f0",
   "metadata": {},
   "outputs": [
    {
     "name": "stdout",
     "output_type": "stream",
     "text": [
      "1\n",
      "2\n",
      "3\n",
      "4\n",
      "5\n",
      "6\n",
      "7\n",
      "8\n",
      "9\n",
      "10\n"
     ]
    }
   ],
   "source": [
    "\n",
    "a=1\n",
    "while a <=10:\n",
    "    print(a)\n",
    "    a=a+1\n",
    "\n",
    "\n"
   ]
  },
  {
   "cell_type": "markdown",
   "id": "596963ef-9039-43dc-9874-6c2fcbd97bb4",
   "metadata": {},
   "source": [
    "                                        while loop (product)\n"
   ]
  },
  {
   "cell_type": "code",
   "execution_count": 13,
   "id": "ba0f39b7-5013-4390-810e-9e2a3c50df0d",
   "metadata": {},
   "outputs": [
    {
     "name": "stdin",
     "output_type": "stream",
     "text": [
      "enter your number 10\n"
     ]
    },
    {
     "name": "stdout",
     "output_type": "stream",
     "text": [
      "10 * 1 = 10\n",
      "10 * 2 = 20\n",
      "10 * 3 = 30\n",
      "10 * 4 = 40\n",
      "10 * 5 = 50\n",
      "10 * 6 = 60\n",
      "10 * 7 = 70\n",
      "10 * 8 = 80\n",
      "10 * 9 = 90\n",
      "10 * 10 = 100\n"
     ]
    }
   ],
   "source": [
    "n=int(input(\"enter your number\"))\n",
    "i=1\n",
    "while i <=10:\n",
    "    result=n*i\n",
    "    print(n,\"*\",i,\"=\",result)\n",
    "    i =i+1\n",
    "        \n",
    "          "
   ]
  },
  {
   "cell_type": "markdown",
   "id": "9d6b48ea-b061-4e32-bc80-924275c7fd6e",
   "metadata": {},
   "source": [
    "                                        For loop (sum)"
   ]
  },
  {
   "cell_type": "code",
   "execution_count": 18,
   "id": "b0386fea-f680-450f-ba67-2766515af29c",
   "metadata": {},
   "outputs": [
    {
     "name": "stdout",
     "output_type": "stream",
     "text": [
      "1\n",
      "2\n",
      "3\n",
      "4\n",
      "5\n",
      "6\n",
      "7\n",
      "8\n",
      "9\n",
      "10\n"
     ]
    }
   ],
   "source": [
    "l=[1,2,3,4,5,6,7,8,9,10]"
   ]
  },
  {
   "cell_type": "code",
   "execution_count": 19,
   "id": "f2486646-d502-4eb4-af87-2979c84df473",
   "metadata": {},
   "outputs": [
    {
     "data": {
      "text/plain": [
       "55"
      ]
     },
     "execution_count": 19,
     "metadata": {},
     "output_type": "execute_result"
    }
   ],
   "source": [
    "sum(l)"
   ]
  },
  {
   "cell_type": "code",
   "execution_count": null,
   "id": "694527fb-7976-4f9e-b3e8-ef65e294ce49",
   "metadata": {},
   "outputs": [],
   "source": [
    "                                      For loop (product)"
   ]
  },
  {
   "cell_type": "code",
   "execution_count": null,
   "id": "3ebb53c5-cb98-4666-80a0-ac6160805885",
   "metadata": {},
   "outputs": [],
   "source": [
    "l=[1,2,3,4,5,6,7,8,9,10]"
   ]
  },
  {
   "cell_type": "markdown",
   "id": "bcb91398-e1f0-4c60-8f4e-f8db26406db0",
   "metadata": {},
   "source": [
    "Q2). Create a python program to compute the electricity bill for a household."
   ]
  },
  {
   "cell_type": "markdown",
   "id": "0b2f18df-512a-4b5b-abe5-ec874bb81de5",
   "metadata": {},
   "source": [
    "1.For the first 100 units, the user will be charged Rs. 4.5 per units"
   ]
  },
  {
   "cell_type": "code",
   "execution_count": 2,
   "id": "b6397636-d086-4c56-84bb-ea8412195ee9",
   "metadata": {},
   "outputs": [
    {
     "name": "stdin",
     "output_type": "stream",
     "text": [
      "Enter the units of electricity consumed:  310\n"
     ]
    },
    {
     "name": "stdout",
     "output_type": "stream",
     "text": [
      "Total electricity bill: Rs. 2250.00\n"
     ]
    }
   ],
   "source": [
    "units = int(input(\"Enter the units of electricity consumed: \"))\n",
    "\n",
    "if units <= 100:\n",
    "    bill = units * 4.5\n",
    "elif units <= 200:\n",
    "    bill = 100 * 4.5 + (units - 100) * 6\n",
    "elif units <= 300:\n",
    "    bill = 100 * 4.5 + 100 * 6 + (units - 200) * 10\n",
    "else:\n",
    "    bill = 100 * 4.5 + 100 * 6 + 100 * 10 + (units - 300) * 20\n",
    "\n",
    "print(\"Total electricity bill: Rs. {:.2f}\".format(bill))\n",
    "\n",
    "\n",
    "\n"
   ]
  },
  {
   "cell_type": "markdown",
   "id": "27a1f90d-5925-4e6c-a469-ba2afd99fc2d",
   "metadata": {},
   "source": [
    "Q4. Create a list of numbers from 1 to 100. Use for loop and while loop to calculate the cube of each\n",
    "number and if the cube of that number is divisible by 4 or 5 then append that number in a list and print\n",
    "that list."
   ]
  },
  {
   "cell_type": "code",
   "execution_count": 1,
   "id": "1a9e0053-cbf1-4274-ad82-d8d7f2101566",
   "metadata": {},
   "outputs": [
    {
     "name": "stdout",
     "output_type": "stream",
     "text": [
      "1\n",
      "2\n",
      "3\n",
      "4\n",
      "5\n",
      "6\n",
      "7\n",
      "8\n",
      "9\n",
      "10\n",
      "11\n",
      "12\n",
      "13\n",
      "14\n",
      "15\n",
      "16\n",
      "17\n",
      "18\n",
      "19\n",
      "20\n",
      "21\n",
      "22\n",
      "23\n",
      "24\n",
      "25\n",
      "26\n",
      "27\n",
      "28\n",
      "29\n",
      "30\n",
      "31\n",
      "32\n",
      "33\n",
      "34\n",
      "35\n",
      "36\n",
      "37\n",
      "38\n",
      "39\n",
      "40\n",
      "41\n",
      "42\n",
      "43\n",
      "44\n",
      "45\n",
      "46\n",
      "47\n",
      "48\n",
      "49\n",
      "50\n",
      "51\n",
      "52\n",
      "53\n",
      "54\n",
      "55\n",
      "56\n",
      "57\n",
      "58\n",
      "59\n",
      "60\n",
      "61\n",
      "62\n",
      "63\n",
      "64\n",
      "65\n",
      "66\n",
      "67\n",
      "68\n",
      "69\n",
      "70\n",
      "71\n",
      "72\n",
      "73\n",
      "74\n",
      "75\n",
      "76\n",
      "77\n",
      "78\n",
      "79\n",
      "80\n",
      "81\n",
      "82\n",
      "83\n",
      "84\n",
      "85\n",
      "86\n",
      "87\n",
      "88\n",
      "89\n",
      "90\n",
      "91\n",
      "92\n",
      "93\n",
      "94\n",
      "95\n",
      "96\n",
      "97\n",
      "98\n",
      "99\n",
      "100\n"
     ]
    }
   ],
   "source": [
    "num=1\n",
    "while num <=100:\n",
    "    print(num)\n",
    "    num=num+1\n",
    "         "
   ]
  },
  {
   "cell_type": "code",
   "execution_count": 6,
   "id": "39c54ebd-5437-4743-9bbd-099c36361b4f",
   "metadata": {},
   "outputs": [
    {
     "name": "stdout",
     "output_type": "stream",
     "text": [
      "cube of 1 is 1\n",
      "cube of 2 is 4\n",
      "cube of 3 is 9\n",
      "cube of 4 is 16\n",
      "cube of 5 is 25\n",
      "cube of 6 is 36\n",
      "cube of 7 is 49\n",
      "cube of 8 is 64\n",
      "cube of 9 is 81\n",
      "cube of 10 is 100\n",
      "cube of 11 is 121\n",
      "cube of 12 is 144\n",
      "cube of 13 is 169\n",
      "cube of 14 is 196\n",
      "cube of 15 is 225\n",
      "cube of 16 is 256\n",
      "cube of 17 is 289\n",
      "cube of 18 is 324\n",
      "cube of 19 is 361\n",
      "cube of 20 is 400\n",
      "cube of 21 is 441\n",
      "cube of 22 is 484\n",
      "cube of 23 is 529\n",
      "cube of 24 is 576\n",
      "cube of 25 is 625\n",
      "cube of 26 is 676\n",
      "cube of 27 is 729\n",
      "cube of 28 is 784\n",
      "cube of 29 is 841\n",
      "cube of 30 is 900\n",
      "cube of 31 is 961\n",
      "cube of 32 is 1024\n",
      "cube of 33 is 1089\n",
      "cube of 34 is 1156\n",
      "cube of 35 is 1225\n",
      "cube of 36 is 1296\n",
      "cube of 37 is 1369\n",
      "cube of 38 is 1444\n",
      "cube of 39 is 1521\n",
      "cube of 40 is 1600\n",
      "cube of 41 is 1681\n",
      "cube of 42 is 1764\n",
      "cube of 43 is 1849\n",
      "cube of 44 is 1936\n",
      "cube of 45 is 2025\n",
      "cube of 46 is 2116\n",
      "cube of 47 is 2209\n",
      "cube of 48 is 2304\n",
      "cube of 49 is 2401\n",
      "cube of 50 is 2500\n",
      "cube of 51 is 2601\n",
      "cube of 52 is 2704\n",
      "cube of 53 is 2809\n",
      "cube of 54 is 2916\n",
      "cube of 55 is 3025\n",
      "cube of 56 is 3136\n",
      "cube of 57 is 3249\n",
      "cube of 58 is 3364\n",
      "cube of 59 is 3481\n",
      "cube of 60 is 3600\n",
      "cube of 61 is 3721\n",
      "cube of 62 is 3844\n",
      "cube of 63 is 3969\n",
      "cube of 64 is 4096\n",
      "cube of 65 is 4225\n",
      "cube of 66 is 4356\n",
      "cube of 67 is 4489\n",
      "cube of 68 is 4624\n",
      "cube of 69 is 4761\n",
      "cube of 70 is 4900\n",
      "cube of 71 is 5041\n",
      "cube of 72 is 5184\n",
      "cube of 73 is 5329\n",
      "cube of 74 is 5476\n",
      "cube of 75 is 5625\n",
      "cube of 76 is 5776\n",
      "cube of 77 is 5929\n",
      "cube of 78 is 6084\n",
      "cube of 79 is 6241\n",
      "cube of 80 is 6400\n",
      "cube of 81 is 6561\n",
      "cube of 82 is 6724\n",
      "cube of 83 is 6889\n",
      "cube of 84 is 7056\n",
      "cube of 85 is 7225\n",
      "cube of 86 is 7396\n",
      "cube of 87 is 7569\n",
      "cube of 88 is 7744\n",
      "cube of 89 is 7921\n",
      "cube of 90 is 8100\n",
      "cube of 91 is 8281\n",
      "cube of 92 is 8464\n",
      "cube of 93 is 8649\n",
      "cube of 94 is 8836\n",
      "cube of 95 is 9025\n",
      "cube of 96 is 9216\n",
      "cube of 97 is 9409\n",
      "cube of 98 is 9604\n",
      "cube of 99 is 9801\n",
      "cube of 100 is 10000\n"
     ]
    }
   ],
   "source": [
    "n=1\n",
    "while n<=100:\n",
    "    print(\"cube of\",n,\"is\",n*n)\n",
    "    n=n+1"
   ]
  },
  {
   "cell_type": "code",
   "execution_count": 9,
   "id": "f380f2ab-01af-488c-95a0-431cfcf4fa34",
   "metadata": {},
   "outputs": [
    {
     "name": "stdout",
     "output_type": "stream",
     "text": [
      "For Loop: [2, 4, 5, 6, 8, 10, 12, 14, 15, 16, 18, 20, 22, 24, 25, 26, 28, 30, 32, 34, 35, 36, 38, 40, 42, 44, 45, 46, 48, 50, 52, 54, 55, 56, 58, 60, 62, 64, 65, 66, 68, 70, 72, 74, 75, 76, 78, 80, 82, 84, 85, 86, 88, 90, 92, 94, 95, 96, 98, 100]\n"
     ]
    }
   ],
   "source": [
    "numbers = []\n",
    "for i in range(1, 101):\n",
    "    numbers.append(i)\n",
    "\n",
    "cubes = []\n",
    "for num in numbers:\n",
    "    cube = num ** 3\n",
    "    if cube % 4 == 0 or cube % 5 == 0:\n",
    "        cubes.append(num)\n",
    "\n",
    "print(\"For Loop:\", cubes)"
   ]
  },
  {
   "cell_type": "code",
   "execution_count": 12,
   "id": "d4b92354-8b18-40cb-a0cb-4c634779fb72",
   "metadata": {},
   "outputs": [
    {
     "name": "stdout",
     "output_type": "stream",
     "text": [
      "1\n",
      "8\n",
      "2\n",
      "27\n",
      "64\n",
      "4\n",
      "125\n",
      "5\n",
      "216\n",
      "6\n",
      "343\n",
      "512\n",
      "8\n",
      "729\n",
      "1000\n",
      "10\n",
      "1331\n",
      "1728\n",
      "12\n",
      "2197\n",
      "2744\n",
      "14\n",
      "3375\n",
      "15\n",
      "4096\n",
      "16\n",
      "4913\n",
      "5832\n",
      "18\n",
      "6859\n",
      "8000\n",
      "20\n",
      "9261\n",
      "10648\n",
      "22\n",
      "12167\n",
      "13824\n",
      "24\n",
      "15625\n",
      "25\n",
      "17576\n",
      "26\n",
      "19683\n",
      "21952\n",
      "28\n",
      "24389\n",
      "27000\n",
      "30\n",
      "29791\n",
      "32768\n",
      "32\n",
      "35937\n",
      "39304\n",
      "34\n",
      "42875\n",
      "35\n",
      "46656\n",
      "36\n",
      "50653\n",
      "54872\n",
      "38\n",
      "59319\n",
      "64000\n",
      "40\n",
      "68921\n",
      "74088\n",
      "42\n",
      "79507\n",
      "85184\n",
      "44\n",
      "91125\n",
      "45\n",
      "97336\n",
      "46\n",
      "103823\n",
      "110592\n",
      "48\n",
      "117649\n",
      "125000\n",
      "50\n",
      "132651\n",
      "140608\n",
      "52\n",
      "148877\n",
      "157464\n",
      "54\n",
      "166375\n",
      "55\n",
      "175616\n",
      "56\n",
      "185193\n",
      "195112\n",
      "58\n",
      "205379\n",
      "216000\n",
      "60\n",
      "226981\n",
      "238328\n",
      "62\n",
      "250047\n",
      "262144\n",
      "64\n",
      "274625\n",
      "65\n",
      "287496\n",
      "66\n",
      "300763\n",
      "314432\n",
      "68\n",
      "328509\n",
      "343000\n",
      "70\n",
      "357911\n",
      "373248\n",
      "72\n",
      "389017\n",
      "405224\n",
      "74\n",
      "421875\n",
      "75\n",
      "438976\n",
      "76\n",
      "456533\n",
      "474552\n",
      "78\n",
      "493039\n",
      "512000\n",
      "80\n",
      "531441\n",
      "551368\n",
      "82\n",
      "571787\n",
      "592704\n",
      "84\n",
      "614125\n",
      "85\n",
      "636056\n",
      "86\n",
      "658503\n",
      "681472\n",
      "88\n",
      "704969\n",
      "729000\n",
      "90\n",
      "753571\n",
      "778688\n",
      "92\n",
      "804357\n",
      "830584\n",
      "94\n",
      "857375\n",
      "95\n",
      "884736\n",
      "96\n",
      "912673\n",
      "941192\n",
      "98\n",
      "970299\n",
      "1000000\n",
      "100\n",
      "[2, 4, 5, 6, 8, 10, 12, 14, 15, 16, 18, 20, 22, 24, 25, 26, 28, 30, 32, 34, 35, 36, 38, 40, 42, 44, 45, 46, 48, 50, 52, 54, 55, 56, 58, 60, 62, 64, 65, 66, 68, 70, 72, 74, 75, 76, 78, 80, 82, 84, 85, 86, 88, 90, 92, 94, 95, 96, 98, 100]\n"
     ]
    }
   ],
   "source": [
    "cube_list = []\n",
    "\n",
    "for num in range(1, 101):\n",
    "    cube = num ** 3\n",
    "    print(cube)\n",
    "    if cube % 4 == 0 or cube % 5 == 0:\n",
    "        print(num)\n",
    "        cube_list.append(num)\n",
    "\n",
    "print(cube_list)\n",
    "\n",
    " \n"
   ]
  },
  {
   "cell_type": "markdown",
   "id": "1b35f28e-2ac8-4b57-8293-980902059569",
   "metadata": {},
   "source": [
    "Q5. Write a program to filter count vowels in the below-given string.\n",
    "string = \"I want to become a data scientist\""
   ]
  },
  {
   "cell_type": "code",
   "execution_count": 20,
   "id": "b912fbd0-8b85-4a14-84e7-35565b821437",
   "metadata": {},
   "outputs": [
    {
     "data": {
      "text/plain": [
       "33"
      ]
     },
     "execution_count": 20,
     "metadata": {},
     "output_type": "execute_result"
    }
   ],
   "source": [
    "t=(\"I want to become a data scientist\")\n",
    "len(t)"
   ]
  },
  {
   "cell_type": "code",
   "execution_count": 14,
   "id": "64cc7d3e-fd37-4a4c-8006-a65aa1ce6939",
   "metadata": {},
   "outputs": [],
   "source": [
    "l=(\"I want to become a data scientist\")"
   ]
  },
  {
   "cell_type": "code",
   "execution_count": null,
   "id": "969fa4c7-d8f6-4aaf-8ffa-e649b3fbfb19",
   "metadata": {},
   "outputs": [],
   "source": []
  },
  {
   "cell_type": "markdown",
   "id": "999566b4-f76b-4d81-8fba-284f5f4a706b",
   "metadata": {},
   "source": [
    "Q4. Create a list of numbers from 1 to 100. Use for loop and while loop to calculate the cube of each\n",
    "number and if the cube of that number is divisible by 4 or 5 then append that number in a list and print"
   ]
  }
 ],
 "metadata": {
  "kernelspec": {
   "display_name": "Python 3 (ipykernel)",
   "language": "python",
   "name": "python3"
  },
  "language_info": {
   "codemirror_mode": {
    "name": "ipython",
    "version": 3
   },
   "file_extension": ".py",
   "mimetype": "text/x-python",
   "name": "python",
   "nbconvert_exporter": "python",
   "pygments_lexer": "ipython3",
   "version": "3.10.8"
  }
 },
 "nbformat": 4,
 "nbformat_minor": 5
}
